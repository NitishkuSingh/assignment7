{
 "cells": [
  {
   "cell_type": "markdown",
   "id": "56daf8c0-7929-4f12-a2f2-695ef4357c80",
   "metadata": {},
   "source": [
    "Question -1 "
   ]
  },
  {
   "cell_type": "markdown",
   "id": "3765b1e8-4e4b-4e9f-8d9a-7b0a72be6493",
   "metadata": {},
   "source": [
    "In object-oriented programming (OOP), abstraction is the concept of simplifying complex systems by focusing on the essential aspects while hiding unnecessary details. It involves creating a simplified model that represents the core features of a system, while concealing the implementation details."
   ]
  },
  {
   "cell_type": "markdown",
   "id": "10b65a4f-1c30-4b69-aac8-3ea5c8265779",
   "metadata": {},
   "source": [
    "Let's consider the concept of a \"Shape\" in a drawing application. A shape can be represented by various geometric figures such as circles, rectangles, and triangles. Each shape has common attributes like color, position, and size, and common operations like drawing and resizing. However, the specific implementation of these attributes and operations varies for each type of shape"
   ]
  },
  {
   "cell_type": "markdown",
   "id": "a1f70a8d-f4a9-4097-acf4-95f71f6cd5dc",
   "metadata": {},
   "source": [
    "Question -2"
   ]
  },
  {
   "cell_type": "markdown",
   "id": "dd10f855-4966-4953-9408-49f9eb2ad2b3",
   "metadata": {},
   "source": [
    "1. Abstraction:\n",
    "\n",
    "Abstraction is the process of hiding the complex implementation details and showing only the essential features of an object. It focuses on what an object does rather than how it achieves its functionality. Abstraction is achieved through the use of abstract classes, interfaces, and abstract methods."
   ]
  },
  {
   "cell_type": "markdown",
   "id": "99fc795a-a1ea-4ac2-a9fb-537520ba2c02",
   "metadata": {},
   "source": [
    "2. Encapsulation:\n",
    "\n",
    "Encapsulation is the bundling of data (attributes or properties) and methods (functions or behaviors) that operate on the data into a single unit, called a class. It hides the internal state of an object from the outside world and only exposes the necessary interfaces for interacting with the object. Encapsulation helps in achieving data hiding, abstraction, and modularity in software development."
   ]
  },
  {
   "cell_type": "markdown",
   "id": "ef525b40-b27a-4ad0-8cdc-403386f7a929",
   "metadata": {},
   "source": [
    "Question -3"
   ]
  },
  {
   "cell_type": "markdown",
   "id": "5c32d51f-f791-4833-912c-92c6bc8bd1a4",
   "metadata": {},
   "source": [
    "\n",
    "The abc module in Python stands for \"Abstract Base Classes\". It provides a way to define abstract base classes in Python, which are classes that cannot be instantiated directly but serve as a blueprint for other classes to inherit from. Abstract base classes define a set of methods that must be implemented by subclasses, ensuring a consistent interface across multiple classes."
   ]
  },
  {
   "cell_type": "markdown",
   "id": "28de2195-ffa6-4830-b03a-c0644d865741",
   "metadata": {},
   "source": [
    "Question -4"
   ]
  },
  {
   "cell_type": "markdown",
   "id": "23079e34-8757-4246-9d87-9f8f71d2d1c9",
   "metadata": {},
   "source": [
    "Abstraction:\n",
    "\n",
    "Abstraction is the process of hiding the complex implementation details and showing only the essential features of an object. It focuses on what an object does rather than how it achieves its functionality. Abstraction is achieved through the use of abstract classes, interfaces, and abstract methods.\n",
    "\n",
    "Example:\n",
    "\n",
    "Consider a vehicle management system. Regardless of the specific type of vehicle (car, motorcycle, truck), we are interested in common functionalities such as starting the engine, stopping the engine, accelerating, and braking. We can abstract these common functionalities into an interface called Vehicle, which defines methods like start(), stop(), accelerate(), and brake(). Each specific type of vehicle (e.g., Car, Motorcycle, Truck) would then implement these methods according to its unique characteristics.\n",
    "\n",
    "Encapsulation:\n",
    "\n",
    "Encapsulation is the bundling of data (attributes or properties) and methods (functions or behaviors) that operate on the data into a single unit, called a class. It hides the internal state of an object from the outside world and only exposes the necessary interfaces for interacting with the object. Encapsulation helps in achieving data hiding, abstraction, and modularity in software development.\n",
    "\n",
    "Example:\n",
    "\n",
    "Continuing with the vehicle management system example, we can encapsulate the attributes and methods of a Car class within a single unit. The Car class might have attributes such as make, model, year, speed, and methods such as start(), stop(), accelerate(), and brake(). These attributes are encapsulated within the Car class, and they can only be accessed or modified through the defined methods. Other parts of the code interacting with the Car object do not need to know how these methods are implemented internally; they only need to know how to use them.\n",
    "\n"
   ]
  },
  {
   "cell_type": "markdown",
   "id": "b100bb94-0343-4502-abbd-efbeb217e04f",
   "metadata": {},
   "source": [
    "Question - "
   ]
  },
  {
   "cell_type": "code",
   "execution_count": null,
   "id": "c844690a-6ccf-4522-aa89-e830dcb19e3a",
   "metadata": {},
   "outputs": [],
   "source": []
  },
  {
   "cell_type": "code",
   "execution_count": null,
   "id": "c43e3c36-ef09-40c0-88b6-54983053d995",
   "metadata": {},
   "outputs": [],
   "source": []
  },
  {
   "cell_type": "code",
   "execution_count": null,
   "id": "8acd15e8-2b67-4be8-ba5c-f755c8e616c3",
   "metadata": {},
   "outputs": [],
   "source": []
  },
  {
   "cell_type": "code",
   "execution_count": null,
   "id": "50464760-8977-4003-959e-6159c6525ab4",
   "metadata": {},
   "outputs": [],
   "source": []
  },
  {
   "cell_type": "code",
   "execution_count": null,
   "id": "c99083f6-d2e3-4034-9b58-f4a62c6384e1",
   "metadata": {},
   "outputs": [],
   "source": []
  }
 ],
 "metadata": {
  "kernelspec": {
   "display_name": "Python 3 (ipykernel)",
   "language": "python",
   "name": "python3"
  },
  "language_info": {
   "codemirror_mode": {
    "name": "ipython",
    "version": 3
   },
   "file_extension": ".py",
   "mimetype": "text/x-python",
   "name": "python",
   "nbconvert_exporter": "python",
   "pygments_lexer": "ipython3",
   "version": "3.10.8"
  }
 },
 "nbformat": 4,
 "nbformat_minor": 5
}
